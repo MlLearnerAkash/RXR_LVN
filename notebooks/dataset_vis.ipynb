{
 "cells": [
  {
   "cell_type": "code",
   "execution_count": 1,
   "id": "3eedd364",
   "metadata": {},
   "outputs": [],
   "source": [
    "import sys\n",
    "sys.path.append('/home/akash/ws/personal/Heatmap_Generation_for_Visual_Language_Navigation_Using_RxR_Dataset')\n"
   ]
  },
  {
   "cell_type": "code",
   "execution_count": 2,
   "id": "8bb83ced",
   "metadata": {},
   "outputs": [],
   "source": [
    "from data.rxr_dataset import RxRDataset, create_dataloader\n"
   ]
  },
  {
   "cell_type": "code",
   "execution_count": 3,
   "id": "b1bb484e",
   "metadata": {},
   "outputs": [],
   "source": [
    "batch_size=8\n",
    "num_workers = 4"
   ]
  },
  {
   "cell_type": "code",
   "execution_count": null,
   "id": "7fc5cb54",
   "metadata": {},
   "outputs": [],
   "source": [
    "train_dataloader = create_dataloader(\n",
    "    data_root=\"/home/akash/ws/personal/Heatmap_Generation_for_Visual_Language_Navigation_Using_RxR_Dataset/dataset/rxr-data\",\n",
    "    split='train',\n",
    "    batch_size= batch_size,\n",
    "    num_workers=4\n",
    ")\n"
   ]
  },
  {
   "cell_type": "code",
   "execution_count": null,
   "id": "a93304df",
   "metadata": {},
   "outputs": [],
   "source": [
    "for data in train_dataloader:\n",
    "    print(data)"
   ]
  },
  {
   "cell_type": "code",
   "execution_count": null,
   "id": "d38ee0d4",
   "metadata": {},
   "outputs": [],
   "source": []
  }
 ],
 "metadata": {
  "kernelspec": {
   "display_name": "v10",
   "language": "python",
   "name": "python3"
  },
  "language_info": {
   "codemirror_mode": {
    "name": "ipython",
    "version": 3
   },
   "file_extension": ".py",
   "mimetype": "text/x-python",
   "name": "python",
   "nbconvert_exporter": "python",
   "pygments_lexer": "ipython3",
   "version": "3.8.20"
  }
 },
 "nbformat": 4,
 "nbformat_minor": 5
}
